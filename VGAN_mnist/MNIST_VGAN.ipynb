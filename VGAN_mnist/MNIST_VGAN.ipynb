{
  "nbformat": 4,
  "nbformat_minor": 0,
  "metadata": {
    "colab": {
      "provenance": []
    },
    "kernelspec": {
      "name": "python3",
      "display_name": "Python 3"
    },
    "language_info": {
      "name": "python"
    },
    "accelerator": "GPU"
  },
  "cells": [
    {
      "cell_type": "code",
      "execution_count": 51,
      "metadata": {
        "id": "xhO3XOAlQuzT"
      },
      "outputs": [],
      "source": [
        "import torch\n",
        "from torch import nn, optim\n",
        "from torch.autograd.variable import Variable\n",
        "from torchvision import transforms, datasets, utils"
      ]
    },
    {
      "cell_type": "code",
      "source": [
        "def mnist_data():\n",
        "  compose = transforms.Compose(\n",
        "      [transforms.ToTensor(),\n",
        "       transforms.Normalize((0.5),(0.5))]\n",
        "  )\n",
        "  return datasets.MNIST(root='./dataset', train=True,\n",
        "                        transform=compose,download=True)\n",
        "  \n",
        "data = mnist_data()"
      ],
      "metadata": {
        "id": "aFSZgm_LQ9Lv"
      },
      "execution_count": null,
      "outputs": []
    },
    {
      "cell_type": "code",
      "source": [
        "data_loader = torch.utils.data.DataLoader(data, batch_size=100,\n",
        "                                          shuffle=True)\n",
        "num_batches = len(data_loader)"
      ],
      "metadata": {
        "id": "nOZ695jLRxA6"
      },
      "execution_count": null,
      "outputs": []
    },
    {
      "cell_type": "code",
      "source": [
        "class DiscriminatorNet(torch.nn.Module):\n",
        "  \"\"\"\n",
        "  A three layer discriminator model\n",
        "  \"\"\"\n",
        "  def __init__(self):\n",
        "    super(DiscriminatorNet, self).__init__()\n",
        "    n_features = 784\n",
        "    n_out = 1\n",
        "\n",
        "    self.hidden0 = nn.Sequential( \n",
        "            nn.Linear(n_features, 1024),\n",
        "            nn.LeakyReLU(0.2),\n",
        "            nn.Dropout(0.3)\n",
        "        )\n",
        "    self.hidden1 = nn.Sequential(\n",
        "            nn.Linear(1024, 512),\n",
        "            nn.LeakyReLU(0.2),\n",
        "            nn.Dropout(0.3)\n",
        "        )\n",
        "    self.hidden2 = nn.Sequential(\n",
        "            nn.Linear(512, 256),\n",
        "            nn.LeakyReLU(0.2),\n",
        "            nn.Dropout(0.3)\n",
        "        )\n",
        "    self.out = nn.Sequential(\n",
        "            torch.nn.Linear(256, n_out),\n",
        "            torch.nn.Sigmoid()\n",
        "        )\n",
        "    \n",
        "  def forward(self,x):\n",
        "    x = self.hidden0(x)\n",
        "    x = self.hidden1(x)\n",
        "    x = self.hidden2(x)\n",
        "    x = self.out(x)\n",
        "    return x\n",
        "\n",
        "discriminator = DiscriminatorNet()"
      ],
      "metadata": {
        "id": "SPmwpWxTR-E9"
      },
      "execution_count": null,
      "outputs": []
    },
    {
      "cell_type": "code",
      "source": [
        "def images_to_vectors(images):\n",
        "  return images.view(images.size(0), 784)\n",
        "\n",
        "def vectors_to_images(vectors):\n",
        "  return vectors.view(vectors.size(0), 1,28,28)"
      ],
      "metadata": {
        "id": "E76hFneLS7O-"
      },
      "execution_count": null,
      "outputs": []
    },
    {
      "cell_type": "code",
      "source": [
        "class GeneratorNet(torch.nn.Module):\n",
        "  \"\"\"\n",
        "  A three layer generative neural network\n",
        "  \"\"\"\n",
        "\n",
        "  def __init__(self):\n",
        "    super(GeneratorNet, self).__init__()\n",
        "    n_features = 100\n",
        "    n_out = 784\n",
        "\n",
        "    self.hidden0 = nn.Sequential(\n",
        "            nn.Linear(n_features, 256),\n",
        "            nn.LeakyReLU(0.2)\n",
        "        )\n",
        "    self.hidden1 = nn.Sequential(            \n",
        "            nn.Linear(256, 512),\n",
        "            nn.LeakyReLU(0.2)\n",
        "        )\n",
        "    self.hidden2 = nn.Sequential(\n",
        "            nn.Linear(512, 1024),\n",
        "            nn.LeakyReLU(0.2)\n",
        "        )\n",
        "        \n",
        "    self.out = nn.Sequential(\n",
        "            nn.Linear(1024, n_out),\n",
        "            nn.Tanh()\n",
        "        )\n",
        "    \n",
        "  def forward(self,x):\n",
        "     x = self.hidden0(x)\n",
        "     x = self.hidden1(x)\n",
        "     x = self.hidden2(x)\n",
        "     x = self.out(x)\n",
        "     return x\n",
        "\n",
        "\n",
        "generator = GeneratorNet()\n"
      ],
      "metadata": {
        "id": "BIiIqFnuTQeE"
      },
      "execution_count": null,
      "outputs": []
    },
    {
      "cell_type": "code",
      "source": [
        "def noise(size):\n",
        "    n = Variable(torch.randn(size, 100))\n",
        "    if torch.cuda.is_available(): return n.cuda() \n",
        "    return n"
      ],
      "metadata": {
        "id": "DybR8e48UFeq"
      },
      "execution_count": null,
      "outputs": []
    },
    {
      "cell_type": "code",
      "source": [
        "if torch.cuda.is_available():\n",
        "    discriminator.cuda()\n",
        "    generator.cuda()"
      ],
      "metadata": {
        "id": "Im6Lj_MiljSq"
      },
      "execution_count": null,
      "outputs": []
    },
    {
      "cell_type": "code",
      "source": [
        "d_optimizer = optim.Adam(discriminator.parameters(), lr=0.0002)\n",
        "g_optimizer = optim.Adam(generator.parameters(), lr=0.0002)"
      ],
      "metadata": {
        "id": "WF-meR7fUJxM"
      },
      "execution_count": null,
      "outputs": []
    },
    {
      "cell_type": "code",
      "source": [
        "loss = nn.BCELoss()"
      ],
      "metadata": {
        "id": "HwDqUcOuUMak"
      },
      "execution_count": null,
      "outputs": []
    },
    {
      "cell_type": "code",
      "source": [
        "def ones_target(size):\n",
        "    '''\n",
        "    Tensor containing ones, with shape = size\n",
        "    '''\n",
        "    data = Variable(torch.ones(size, 1))\n",
        "    if torch.cuda.is_available(): return data.cuda()\n",
        "    return data\n",
        "\n",
        "def zeros_target(size):\n",
        "    '''\n",
        "    Tensor containing zeros, with shape = size\n",
        "    '''\n",
        "    data = Variable(torch.zeros(size, 1))\n",
        "    if torch.cuda.is_available(): return data.cuda()\n",
        "    return data"
      ],
      "metadata": {
        "id": "LkTkuMwUUOqU"
      },
      "execution_count": null,
      "outputs": []
    },
    {
      "cell_type": "code",
      "source": [
        "def train_discriminator(optimizer, real_data, fake_data):\n",
        "  N = real_data.size(0)\n",
        "  optimizer.zero_grad()\n",
        "\n",
        "  # Train on real data\n",
        "  pred_real = discriminator(real_data)\n",
        "  error_real = loss(pred_real, ones_target(N))\n",
        "  error_real.backward()\n",
        "\n",
        "  # Train on fake images\n",
        "  pred_fake = discriminator(fake_data)\n",
        "  error_fake = loss(pred_fake, zeros_target(N))\n",
        "  error_fake.backward()\n",
        "\n",
        "  optimizer.step()\n",
        "\n",
        "  return error_real+error_fake, pred_real, pred_fake"
      ],
      "metadata": {
        "id": "G0NaYQXIU3UU"
      },
      "execution_count": null,
      "outputs": []
    },
    {
      "cell_type": "code",
      "source": [
        "def train_generator(optimizer, fake_data):\n",
        "    N = fake_data.size(0)\n",
        "    # Reset gradients\n",
        "    optimizer.zero_grad()\n",
        "    # Sample noise and generate fake data\n",
        "    prediction = discriminator(fake_data)\n",
        "    # Calculate error and backpropagate\n",
        "    error = loss(prediction, ones_target(N))\n",
        "    error.backward()\n",
        "    # Update weights with gradients\n",
        "    optimizer.step()\n",
        "    # Return error\n",
        "    return error"
      ],
      "metadata": {
        "id": "12lFR_pOWGiA"
      },
      "execution_count": null,
      "outputs": []
    },
    {
      "cell_type": "code",
      "source": [
        "num_test_samples = 16\n",
        "test_noise = noise(num_test_samples)"
      ],
      "metadata": {
        "id": "kkM037M0Wo_i"
      },
      "execution_count": null,
      "outputs": []
    },
    {
      "cell_type": "code",
      "source": [
        "num_epochs = 200\n",
        "\n",
        "for epoch in range(num_epochs):\n",
        "  for n_batch, (real_batch,_) in enumerate(data_loader):\n",
        "    N = real_batch.size(0)\n",
        "\n",
        "    # Train discriminator\n",
        "    real_data = Variable(images_to_vectors(real_batch))\n",
        "    if torch.cuda.is_available(): real_data = real_data.cuda()\n",
        "    fake_data = generator(noise(N)).detach()\n",
        "    d_error, d_pred_real, d_pred_fake = train_discriminator(d_optimizer, real_data, fake_data)\n",
        "\n",
        "    # Train Generator\n",
        "    fake_data = generator(noise(N))\n",
        "    g_error = train_generator(g_optimizer, fake_data)"
      ],
      "metadata": {
        "id": "eAuSwqadWs7f"
      },
      "execution_count": null,
      "outputs": []
    },
    {
      "cell_type": "code",
      "source": [
        "results = generator(test_noise)\n",
        "results.shape"
      ],
      "metadata": {
        "id": "QTAeLgxnX_qH",
        "colab": {
          "base_uri": "https://localhost:8080/"
        },
        "outputId": "0159b7b2-bd4d-4ecf-d78a-c093088895fc"
      },
      "execution_count": null,
      "outputs": [
        {
          "output_type": "execute_result",
          "data": {
            "text/plain": [
              "torch.Size([16, 784])"
            ]
          },
          "metadata": {},
          "execution_count": 30
        }
      ]
    },
    {
      "cell_type": "code",
      "source": [
        "torch.save(generator.state_dict(), \"mnist_vgan_gen.pt\")\n",
        "torch.save(discriminator.state_dict(), \"mnist_vgan_dis.pt\")"
      ],
      "metadata": {
        "id": "B01RCzWqaI6p"
      },
      "execution_count": 36,
      "outputs": []
    },
    {
      "cell_type": "code",
      "source": [
        "test_images = vectors_to_images(results).data.cpu()"
      ],
      "metadata": {
        "id": "zxsSo7CKzLfB"
      },
      "execution_count": 37,
      "outputs": []
    },
    {
      "cell_type": "code",
      "source": [
        "test_images.shape"
      ],
      "metadata": {
        "colab": {
          "base_uri": "https://localhost:8080/"
        },
        "id": "XkOJarjF0Z9A",
        "outputId": "4a302bd4-dcc1-435b-ddd1-1d97b701475d"
      },
      "execution_count": 39,
      "outputs": [
        {
          "output_type": "execute_result",
          "data": {
            "text/plain": [
              "torch.Size([16, 1, 28, 28])"
            ]
          },
          "metadata": {},
          "execution_count": 39
        }
      ]
    },
    {
      "cell_type": "code",
      "source": [
        "import matplotlib.pyplot as plt\n",
        "grid_img = utils.make_grid(test_images)\n",
        "plt.figure(figsize=(10,20))\n",
        "plt.imshow(grid_img.permute(1,2,0))"
      ],
      "metadata": {
        "colab": {
          "base_uri": "https://localhost:8080/",
          "height": 249
        },
        "id": "SlsstL0V0cvP",
        "outputId": "4059df8d-f2e0-40ac-d9b1-91a777ceded6"
      },
      "execution_count": 55,
      "outputs": [
        {
          "output_type": "stream",
          "name": "stderr",
          "text": [
            "WARNING:matplotlib.image:Clipping input data to the valid range for imshow with RGB data ([0..1] for floats or [0..255] for integers).\n"
          ]
        },
        {
          "output_type": "execute_result",
          "data": {
            "text/plain": [
              "<matplotlib.image.AxesImage at 0x7efd396b6410>"
            ]
          },
          "metadata": {},
          "execution_count": 55
        },
        {
          "output_type": "display_data",
          "data": {
            "text/plain": [
              "<Figure size 720x1440 with 1 Axes>"
            ],
            "image/png": "[encoded data removed]"
          },
          "metadata": {
            "needs_background": "light"
          }
        }
      ]
    },
    {
      "cell_type": "code",
      "source": [],
      "metadata": {
        "id": "Dpruxwjn087n"
      },
      "execution_count": 49,
      "outputs": []
    },
    {
      "cell_type": "code",
      "source": [],
      "metadata": {
        "id": "-Zc6WdiZ3XT2"
      },
      "execution_count": null,
      "outputs": []
    }
  ]
}